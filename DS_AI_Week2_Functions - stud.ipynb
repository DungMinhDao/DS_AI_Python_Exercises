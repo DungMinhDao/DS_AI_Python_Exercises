{
 "cells": [
  {
   "cell_type": "markdown",
   "metadata": {
    "id": "7uE1EooUD6ho"
   },
   "source": [
    "# <font color=”blue”> Practice 2: Functions</font>\n"
   ]
  },
  {
   "cell_type": "markdown",
   "metadata": {
    "id": "DJXWw-NJ3ml4"
   },
   "source": [
    "## Part 1. Function"
   ]
  },
  {
   "cell_type": "markdown",
   "metadata": {
    "id": "r3eQQRKnMw74"
   },
   "source": [
    "### Exercise 1\n",
    "In number theory, a perfect number is a positive integer that is equal to the sum of its proper positive divisors, that is, the sum of its positive divisors excluding the number itself.\\\n",
    "Write a function to check whether a number is a perfect number or not"
   ]
  },
  {
   "cell_type": "code",
   "execution_count": null,
   "metadata": {
    "id": "ZZIflIiHwi0L"
   },
   "outputs": [],
   "source": [
    "def is_perfect(n):\n",
    "    \n",
    "    ##################\n",
    "    # YOUR CODE HERE #\n",
    "    ##################\n",
    "    \n",
    "    return True"
   ]
  },
  {
   "cell_type": "markdown",
   "metadata": {
    "id": "X1DuWYqK-lij"
   },
   "source": [
    "### Exercise 2\n",
    "Write a Python function to print the first n<sup>th</sup> lines (n > 0) of the Pascal triangle. Note: you can define additional functions for better use"
   ]
  },
  {
   "cell_type": "code",
   "execution_count": null,
   "metadata": {
    "id": "9OKP_AmQ-_mz"
   },
   "outputs": [],
   "source": [
    "def pascal_triangle(n):\n",
    "    ##################\n",
    "    # YOUR CODE HERE #\n",
    "    ##################\n",
    "    print('result')"
   ]
  },
  {
   "cell_type": "markdown",
   "metadata": {
    "id": "8NZLCxExM1wu"
   },
   "source": [
    "### Exercise 3\n",
    "Write a function to print all the prime numbers less than a given number. Note: you can define additional functions for better use"
   ]
  },
  {
   "cell_type": "code",
   "execution_count": null,
   "metadata": {
    "id": "TY2YEwa65lNA"
   },
   "outputs": [],
   "source": [
    "def print_prime(n):\n",
    "    \n",
    "    ##################\n",
    "    # YOUR CODE HERE #\n",
    "    ##################\n",
    "    \n",
    "    print('result')"
   ]
  },
  {
   "cell_type": "markdown",
   "metadata": {
    "id": "v2B20m1TM1Tl"
   },
   "source": [
    "### Exercise 4\n",
    "Write a function to find the greatest commmon divisor of 2 positive integers"
   ]
  },
  {
   "cell_type": "code",
   "execution_count": null,
   "metadata": {
    "id": "sTmP4SCd9Q_Z"
   },
   "outputs": [],
   "source": [
    "def GCD(a, b):\n",
    "    \n",
    "    ##################\n",
    "    # YOUR CODE HERE #\n",
    "    ##################\n",
    "    \n",
    "    return a"
   ]
  },
  {
   "cell_type": "markdown",
   "metadata": {
    "id": "eGZNzpi4NPz8"
   },
   "source": [
    "## Part 2. Recursive function"
   ]
  },
  {
   "cell_type": "markdown",
   "metadata": {
    "id": "6WjUs-cPMxda"
   },
   "source": [
    "### Exercise 5\n",
    "Write a recursive function to print the n<sup>th</sup> Fibonacci number, given a positve integer n. Assume that the 1<sup>st</sup> and the 2<sup>nd</sup> Fibonacci numbers are 1."
   ]
  },
  {
   "cell_type": "code",
   "execution_count": null,
   "metadata": {
    "id": "7A6gB3Qa2HE7"
   },
   "outputs": [],
   "source": [
    "def fibo(n):\n",
    "    \n",
    "    ##################\n",
    "    # YOUR CODE HERE #\n",
    "    ##################\n",
    "    \n",
    "    print('result')"
   ]
  },
  {
   "cell_type": "markdown",
   "metadata": {
    "id": "iiM_X5NCSLvs"
   },
   "source": [
    "### Exercise 6\n",
    "Write a recursive function to convert decimal number (positive integer) to string of binary number"
   ]
  },
  {
   "cell_type": "code",
   "execution_count": null,
   "metadata": {
    "id": "9rn0kwLdSK_U"
   },
   "outputs": [],
   "source": [
    "def dec_to_bin(n):\n",
    "    \n",
    "    ##################\n",
    "    # YOUR CODE HERE #\n",
    "    ##################\n",
    "    \n",
    "    return 'result'"
   ]
  },
  {
   "cell_type": "markdown",
   "metadata": {
    "id": "U3QyNfTSTnHM"
   },
   "source": [
    "### Exercise 7\n",
    "Write a recursive function to compute the sum of digits of a number"
   ]
  },
  {
   "cell_type": "code",
   "execution_count": null,
   "metadata": {
    "id": "8DfeMCqVWIlo"
   },
   "outputs": [],
   "source": [
    "def sum_of_digit(n):\n",
    "    \n",
    "    ##################\n",
    "    # YOUR CODE HERE #\n",
    "    ##################"
   ]
  },
  {
   "cell_type": "markdown",
   "metadata": {
    "id": "USxei_eU-FV1"
   },
   "source": [
    "## Part 3. Lambda function "
   ]
  },
  {
   "cell_type": "markdown",
   "metadata": {
    "id": "F6_J0D_mBiqq"
   },
   "source": [
    "### Exercise 8\n",
    "Write a lambda function to return the sum of square of two numbers"
   ]
  },
  {
   "cell_type": "code",
   "execution_count": null,
   "metadata": {
    "id": "4k0hNUIqBiR_"
   },
   "outputs": [],
   "source": [
    "sum_of_squares = # YOUR CODE HERE #    "
   ]
  },
  {
   "cell_type": "markdown",
   "metadata": {
    "id": "8Vu-kqyiM1LT"
   },
   "source": [
    "### Exercise 9\n",
    "Write a lambda function to return the maximum of three numbers. Suggestion: use ternary condition in Python ```[do_this_if_true] if [condition] else [do_this_if_false] ```. For example: \n",
    "```\n",
    "f = lambda n: 0 if n % 2 == 0 else 1\n",
    "```\n",
    "return 0 if n is even and 1 if n is odd\n"
   ]
  },
  {
   "cell_type": "code",
   "execution_count": null,
   "metadata": {
    "id": "V7d4tfCi-vhd"
   },
   "outputs": [],
   "source": [
    "f = lambda a, b, c: # YOUR CODE HERE #  \n",
    "    "
   ]
  },
  {
   "cell_type": "markdown",
   "metadata": {
    "id": "AYAEXdqDAcY0"
   },
   "source": [
    "### Exercise 10\n",
    "Write a lambda function to find the greatest commmon divisor of 2 positive integers. Suggestion: use recursive method; you can try to write normal function first and translate it into lambda function"
   ]
  },
  {
   "cell_type": "code",
   "execution_count": null,
   "metadata": {
    "id": "nWNdL15FAbYB"
   },
   "outputs": [],
   "source": [
    "gcd = lambda a, b: # YOUR CODE HERE #  "
   ]
  },
  {
   "cell_type": "markdown",
   "metadata": {
    "id": "VwJNDPcC7sQx"
   },
   "source": [
    "## Homework"
   ]
  },
  {
   "cell_type": "markdown",
   "metadata": {
    "id": "N-4yRCEAMxz8"
   },
   "source": [
    "### Exercise 11\n",
    "Write a function to compare the speed of execution of the 2 Fibonacci functions in the exercise above using ```time``` library and ```time.time()``` function for n in the range of [x, y], given 2 positive integer x < y\\\n",
    "Example: x = 30, y = 35\n",
    "```\n",
    "Execution time for Fibonacci function using loop with n from 30 to 35: \n",
    "n    Result         Time\n",
    "30   832040         7.152557373046875e-06\n",
    "31   1346269        5.245208740234375e-06\n",
    "32   2178309        4.76837158203125e-06\n",
    "33   3524578        4.76837158203125e-06\n",
    "34   5702887        1.9788742065429688e-05\n",
    "35   9227465        5.4836273193359375e-06\n",
    "\n",
    "Execution time for Fibonacci function using recursion with n from 30 to 35: \n",
    "n    Result         Time\n",
    "30   832040         0.23824524879455566\n",
    "31   1346269        0.3453562259674072\n",
    "32   2178309        0.564260721206665\n",
    "33   3524578        0.8935234546661377\n",
    "34   5702887        1.4531910419464111\n",
    "35   9227465        2.3526673316955566\n",
    "```"
   ]
  },
  {
   "cell_type": "code",
   "execution_count": null,
   "metadata": {
    "id": "kPb4R-6Q8Kb0"
   },
   "outputs": [],
   "source": [
    "import time\n",
    "def fibo_compare(x, y):\n",
    "    \n",
    "    ##################\n",
    "    # YOUR CODE HERE #\n",
    "    ##################\n",
    "\n",
    "fibo_compare(30, 35)"
   ]
  }
 ],
 "metadata": {
  "colab": {
   "collapsed_sections": [
    "OqTOnUmN9nOY",
    "_z0ZDHpn_GCK",
    "01opztOKBwDU",
    "n0xfiLjwK1Aj",
    "52naFhoSSMcM",
    "u1b6zve7Tmuu",
    "HL2wHsApB6Ml",
    "L8BZBW0xPiMu",
    "yIw4hu-BBDaX",
    "njHSS2KVIomb"
   ],
   "name": "DS_AI_Week2_Functions.ipynb",
   "provenance": []
  },
  "kernelspec": {
   "display_name": "Python 3",
   "language": "python",
   "name": "python3"
  },
  "language_info": {
   "codemirror_mode": {
    "name": "ipython",
    "version": 3
   },
   "file_extension": ".py",
   "mimetype": "text/x-python",
   "name": "python",
   "nbconvert_exporter": "python",
   "pygments_lexer": "ipython3",
   "version": "3.7.3"
  }
 },
 "nbformat": 4,
 "nbformat_minor": 1
}