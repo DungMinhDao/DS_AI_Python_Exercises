{
 "cells": [
  {
   "cell_type": "markdown",
   "metadata": {
    "id": "1A4-lnKzkxuC"
   },
   "source": [
    "# <font color=”blue”> Practice 3: Strings, lists, dictionaries and tuples</font>\n"
   ]
  },
  {
   "cell_type": "markdown",
   "metadata": {
    "id": "UID73XU_lGUM"
   },
   "source": [
    "## Part 1. Strings"
   ]
  },
  {
   "cell_type": "markdown",
   "metadata": {
    "id": "lXBKITxlkyEo"
   },
   "source": [
    "#### Exercise 1\n",
    "Write a program to print a string consists of every second character of the string in reverse order starting from the last one and with the first character in the result string capitalized (the other characters are lowercase)\n",
    "\n",
    "Example: Input: ```abcdefg```, Output: ```Geca```"
   ]
  },
  {
   "cell_type": "code",
   "execution_count": null,
   "metadata": {
    "id": "Nc3_dzqmlXSB"
   },
   "outputs": [],
   "source": [
    "s = input()\n",
    "\n",
    "##################\n",
    "# YOUR CODE HERE #\n",
    "##################\n",
    "\n",
    "print(s)"
   ]
  },
  {
   "cell_type": "markdown",
   "metadata": {
    "id": "lVpMqOnkkyHo"
   },
   "source": [
    "#### Exercise 2\n",
    "In naming convention of some languages, variables are often named using Camel case convention (for example: ArrayOfNumber), while in other languages (including Python), variables are named using Snake case convention (for example: array_of_number)\n",
    "\n",
    "Write a program to convert a string from Snake case to Camel case\n",
    "\n",
    "Example: Input: ```array_of_number```, Output: ```ArrayOfNumber```\n"
   ]
  },
  {
   "cell_type": "code",
   "execution_count": null,
   "metadata": {
    "id": "9KftztCFpF04"
   },
   "outputs": [],
   "source": [
    "s = input()\n",
    "\n",
    "##################\n",
    "# YOUR CODE HERE #\n",
    "##################\n",
    "\n",
    "print(s)"
   ]
  },
  {
   "cell_type": "markdown",
   "metadata": {
    "id": "wHHApm9uxsvM"
   },
   "source": [
    "#### Exercise 3\n",
    "Write a program to remove all the uneccessary spaces from a string, including leading, trailing whitespaces and multiple whitespaces in the middle of the sentence\n",
    "\n",
    "For example:\\\n",
    "Input:  \n",
    "```   \n",
    "   Hello   World from   Vietnam  \n",
    "```\n",
    "\n",
    "Output: \n",
    "```\n",
    "Hello World from Vietnam\n",
    "```\n"
   ]
  },
  {
   "cell_type": "code",
   "execution_count": null,
   "metadata": {
    "id": "AgehsDiUynIY"
   },
   "outputs": [],
   "source": [
    "s = input()\n",
    "\n",
    "##################\n",
    "# YOUR CODE HERE #\n",
    "##################\n",
    "\n",
    "print(s)"
   ]
  },
  {
   "cell_type": "markdown",
   "metadata": {
    "id": "V3OeKwxKkyNm"
   },
   "source": [
    "#### Exercise 4\n",
    "Write a function that returns the mirror image of a string (contains lowercase characters only) if that mirror image is still a valid string. Otherwise, return \"NOT POSSIBLE\". \n",
    "\n",
    "Note: b,d, i, o, p, q, v, w, x are characters with the mirror images still valid English characters\n",
    "\n",
    "Example: Input: ```void```, Output: ```biov```"
   ]
  },
  {
   "cell_type": "code",
   "execution_count": null,
   "metadata": {
    "id": "dHlrrGpT3u_v"
   },
   "outputs": [],
   "source": [
    "def mirror(s):\n",
    "\n",
    "    ##################\n",
    "    # YOUR CODE HERE #\n",
    "    ##################\n",
    "\n",
    "    return s"
   ]
  },
  {
   "cell_type": "markdown",
   "metadata": {
    "id": "A4SdU_SBlR6y"
   },
   "source": [
    "## Part 2. Tuples, lists and dictionary"
   ]
  },
  {
   "cell_type": "markdown",
   "metadata": {
    "id": "mNRaTWAvBnWz"
   },
   "source": [
    "### 2.1 Basic tuples, lists and dictionary"
   ]
  },
  {
   "cell_type": "markdown",
   "metadata": {
    "id": "uUeBYMvEOzOr"
   },
   "source": [
    "#### Exercise 5\n",
    "Write a function to remove all consecutive duplicates in a list and return the new list\n",
    "\n",
    "Example:\\\n",
    "Input\n",
    "```\n",
    "[1, 0, 0, 1, 2, 3, 4, 4, 5, 6, 6, 6, 7, 8, 9, 4, 4, 5, 5]\n",
    "```\n",
    "Output\n",
    "```\n",
    "[1, 0, 1, 2, 3, 4, 5, 6, 7, 8, 9, 4, 5]\n",
    "```"
   ]
  },
  {
   "cell_type": "code",
   "execution_count": null,
   "metadata": {
    "id": "y8bwf5S7oHT1"
   },
   "outputs": [],
   "source": [
    "def remove_duplicates(l):\n",
    "\n",
    "    ##################\n",
    "    # YOUR CODE HERE #\n",
    "    ##################\n",
    "\n",
    "    return l"
   ]
  },
  {
   "cell_type": "markdown",
   "metadata": {
    "id": "bGT_0nHDkyTA"
   },
   "source": [
    "#### Exercise 6\n",
    "Write a program to read 2 matrices and output their sum. Example:\n",
    "\n",
    "Input (the first line contains 2 dimensions M * N of each matrix, the next M lines contains the first matrix and the last M lines contains the second matrix)\n",
    "```\n",
    "2 3\n",
    "1 2 3\n",
    "4 5 6\n",
    "7 8 9\n",
    "10 11 12\n",
    "```\n",
    "Output\n",
    "```\n",
    "8 10 12\n",
    "14 16 18\n",
    "```"
   ]
  },
  {
   "cell_type": "code",
   "execution_count": null,
   "metadata": {
    "id": "Ja2jIHp_Bpx7"
   },
   "outputs": [],
   "source": [
    "temp = input().split(' ')\n",
    "m, n = int(temp[0]), int(temp[1])\n",
    "\n",
    "a = []\n",
    "b = []\n",
    "for i in range(m):\n",
    "  a.append(input().split(' '))\n",
    "for i in range(m):\n",
    "  b.append(input().split(' '))\n",
    "\n",
    "##################\n",
    "# YOUR CODE HERE #\n",
    "##################"
   ]
  },
  {
   "cell_type": "markdown",
   "metadata": {
    "id": "zpvL5MdBkyWG"
   },
   "source": [
    "#### Exercise 7\n",
    "Write a function to sort the list of tuples of students by the students' scores. If they have the same scores, sort the students by their names.\n",
    "\n",
    "Example:\\\n",
    "Input\n",
    "```\n",
    "[('John', 9.75), ('Max', 9.5), ('James', 9.5), ('Henry', 8.5)]\n",
    "```\n",
    "Output\n",
    "```\n",
    "[('Henry', 8.5), ('James', 9.5), ('Max', 9.5), ('John', 9.75)]\n",
    "```\n",
    "\n",
    "Hint: use `sorted` function with key for quick sorting (or implement your own sort function)\n"
   ]
  },
  {
   "cell_type": "code",
   "execution_count": 9,
   "metadata": {
    "id": "CR6DJiS-7cWy"
   },
   "outputs": [],
   "source": [
    "def sort_students(l):\n",
    "\n",
    "    ##################\n",
    "    # YOUR CODE HERE #\n",
    "    ##################\n",
    "\n",
    "    return l"
   ]
  },
  {
   "cell_type": "markdown",
   "metadata": {
    "id": "-MkVOPLLkypR"
   },
   "source": [
    "#### Exercise 8\n",
    "Write a fuction that return a dictionary of each character frequency in the string"
   ]
  },
  {
   "cell_type": "code",
   "execution_count": null,
   "metadata": {
    "id": "jWm4g7UmIQ9f"
   },
   "outputs": [],
   "source": [
    "def dictionary_convert(s):\n",
    "\n",
    "    ##################\n",
    "    # YOUR CODE HERE #\n",
    "    ##################\n",
    "\n",
    "    return {}"
   ]
  },
  {
   "cell_type": "markdown",
   "metadata": {
    "id": "En3WDRPnHXtn"
   },
   "source": [
    "### 2.2 List comprehension"
   ]
  },
  {
   "cell_type": "markdown",
   "metadata": {
    "id": "U-oleq1PNhqU"
   },
   "source": [
    "#### Exercise 9\n",
    "Write a function using list comprehension that takes a list as input and return the list with all even numbers doubled, and all odd numbers turned negative\n",
    "\n",
    "Example:\\\n",
    "Input\n",
    "```\n",
    "[32, 56, 99, -40, 20, 78, 43, -61, 61]\n",
    "```\n",
    "Output\n",
    "```\n",
    "[64, 112, -99, -80, 40, 156, -43, 61, -61]\n",
    "```"
   ]
  },
  {
   "cell_type": "code",
   "execution_count": null,
   "metadata": {
    "id": "_11l87nnzB9I"
   },
   "outputs": [],
   "source": [
    "def transform(l):\n",
    "\n",
    "    ##################\n",
    "    # YOUR CODE HERE #\n",
    "    ##################\n",
    "\n",
    "    return l"
   ]
  },
  {
   "cell_type": "markdown",
   "metadata": {
    "id": "jCGlZpQcNi3P"
   },
   "source": [
    "#### Exercise 10\n",
    "Write a program using list comprehension that print a matrix consists of increasing element (starting from 1), given its dimension. Example:\\\n",
    "Input\n",
    "```\n",
    "4 3\n",
    "```\n",
    "Output\n",
    "```\n",
    "1 2 3\n",
    "4 5 6\n",
    "7 8 9\n",
    "10 11 12\n",
    "```"
   ]
  },
  {
   "cell_type": "code",
   "execution_count": null,
   "metadata": {
    "id": "WHg3FU3PNOy9"
   },
   "outputs": [],
   "source": [
    "tmp = input().split(' ')\n",
    "m, n = int(tmp[0]), int(tmp[1])\n",
    "\n",
    "##################\n",
    "# YOUR CODE HERE #\n",
    "##################"
   ]
  },
  {
   "cell_type": "markdown",
   "metadata": {
    "id": "jjGBOgXONjWC"
   },
   "source": [
    "#### Exercise 11\n",
    "Write a program using list comprehension that return the Caesar encryption of a lowercase string, given the shift length. Note: in Caesar encryption, each letter is shifted to the right in the alphabet by a distance (if the end of the alphabet is reached, the shift will start over from letter a/A)\n",
    "\n",
    "Example:\\\n",
    "Input\n",
    "```\n",
    "3\n",
    "the quick brown fox jumps over the lazy dog\n",
    "```\n",
    "Output\n",
    "```\n",
    "wkh txlfn eurzq ira mxpsv ryhu wkh odcb grj\n",
    "```"
   ]
  },
  {
   "cell_type": "code",
   "execution_count": null,
   "metadata": {
    "id": "dj1dDGn71bLW"
   },
   "outputs": [],
   "source": [
    "n = int(input())\n",
    "s = input()\n",
    "\n",
    "##################\n",
    "# YOUR CODE HERE #\n",
    "##################"
   ]
  },
  {
   "cell_type": "markdown",
   "metadata": {
    "id": "gpQbp1jvO_Fc"
   },
   "source": [
    "# Homework"
   ]
  },
  {
   "cell_type": "markdown",
   "metadata": {
    "id": "RoNN_F5akyr1"
   },
   "source": [
    "#### Exercise 12\n",
    "Write a function to merge 2 dictionaries\n",
    "\n",
    "Example:\\\n",
    "Input\n",
    "```\n",
    "{'a': 3, 'b': 2, 'c': 1}\n",
    "{'b': 3, 'c': 2, 'd': 1}\n",
    "```\n",
    "Ouput\n",
    "```\n",
    "{'a': 3, 'b': 5, 'c': 3, 'd': 1}\n",
    "```\n",
    "\n"
   ]
  },
  {
   "cell_type": "code",
   "execution_count": null,
   "metadata": {
    "id": "xBBZ4bpnK8k0"
   },
   "outputs": [],
   "source": [
    "def merge_dict(d1, d2):\n",
    "\n",
    "    ##################\n",
    "    # YOUR CODE HERE #\n",
    "    ##################\n",
    "\n",
    "    return d1"
   ]
  },
  {
   "cell_type": "markdown",
   "metadata": {
    "id": "lNfVUgXMkyvK"
   },
   "source": [
    "#### Exercise 13\n",
    "`*args` and `**kwargs` in Python (reference: [W3Schools](https://www.w3schools.com/python/python_functions.asp))\n",
    "\n",
    "*   `*args`: arbitrary number of arguments in Python function. The function will receive a tuple of arguments, and can access the items accordingly\n",
    "*   `**kwargs`: arbitrary keywords arguments in Python function. The function will receive a dictionary of arguments, and can access the items accordingly\n"
   ]
  },
  {
   "cell_type": "markdown",
   "metadata": {
    "id": "u7ItNnnVGg8u"
   },
   "source": [
    "##### Example"
   ]
  },
  {
   "cell_type": "code",
   "execution_count": null,
   "metadata": {
    "colab": {
     "base_uri": "https://localhost:8080/"
    },
    "id": "HaoELxWUNOIP",
    "outputId": "4056ad2e-5236-4de0-fa19-59b018f5e487"
   },
   "outputs": [
    {
     "name": "stdout",
     "output_type": "stream",
     "text": [
      "\n",
      "Data type of argument: <class 'tuple'>\n"
     ]
    },
    {
     "data": {
      "text/plain": [
       "6"
      ]
     },
     "execution_count": 54,
     "metadata": {
      "tags": []
     },
     "output_type": "execute_result"
    }
   ],
   "source": [
    "def summation(*data):\n",
    "  print(\"\\nData type of argument:\",type(data))\n",
    "  return sum([item for item in data])\n",
    "\n",
    "summation(1, 2, 3)"
   ]
  },
  {
   "cell_type": "code",
   "execution_count": null,
   "metadata": {
    "colab": {
     "base_uri": "https://localhost:8080/"
    },
    "id": "KuoS-kt0RDp8",
    "outputId": "fb1a74e3-0ce5-490c-dfb8-7bcfe71c0b48"
   },
   "outputs": [
    {
     "name": "stdout",
     "output_type": "stream",
     "text": [
      "\n",
      "Data type of argument: <class 'dict'>\n",
      "Firstname is Sita\n",
      "Lastname is Sharma\n",
      "Age is 22\n",
      "Phone is 1234567890\n",
      "\n",
      "Data type of argument: <class 'dict'>\n",
      "Firstname is John\n",
      "Lastname is Wood\n",
      "Email is johnwood@nomail.com\n",
      "Country is Wakanda\n",
      "Age is 25\n",
      "Phone is 9876543210\n"
     ]
    }
   ],
   "source": [
    "def intro(**data):\n",
    "    print(\"\\nData type of argument:\",type(data))\n",
    "\n",
    "    for key, value in data.items():\n",
    "        print(\"{} is {}\".format(key,value))\n",
    "\n",
    "intro(Firstname=\"Sita\", Lastname=\"Sharma\", Age=22, Phone=1234567890)\n",
    "intro(Firstname=\"John\", Lastname=\"Wood\", Email=\"johnwood@nomail.com\", Country=\"Wakanda\", Age=25, Phone=9876543210)"
   ]
  },
  {
   "cell_type": "markdown",
   "metadata": {
    "id": "i8GG8SY6Ga8a"
   },
   "source": [
    "##### Your task"
   ]
  },
  {
   "cell_type": "markdown",
   "metadata": {
    "id": "GC_4QB1p-ksy"
   },
   "source": [
    "Write a function to compute the distance between 2 vectors (it is guarantee that the 2 vectors have the same length). Type of distance is a keyword argument, which can be either 'manhattan', 'cosine' (with 9 decimal places), or 'euclidean' (with 9 decimal places). If no type of distance or other type of distance is specified, the distance will be computed with euclidean norm\\\n",
    "Example:\n",
    "```\n",
    "vector_distance([1, 2], [4, 6]) -> 5.0\n",
    "vector_distance([1, 2], [4, 6], norm='manhattan') -> 7\n",
    "vector_distance([1, 2], [4, 6], norm='cosine) -> 0.992277877\n",
    "```"
   ]
  },
  {
   "cell_type": "code",
   "execution_count": null,
   "metadata": {
    "id": "QVHMN9JD-kVz"
   },
   "outputs": [],
   "source": [
    "import math \n",
    "\n",
    "def vector_distance(v1, v2, **kwargs):\n",
    "\n",
    "    ##################\n",
    "    # YOUR CODE HERE #\n",
    "    ##################"
   ]
  }
 ],
 "metadata": {
  "colab": {
   "name": "DS_AI_Week3_Strings_tuples_lists.ipynb",
   "provenance": []
  },
  "kernelspec": {
   "display_name": "Python 3",
   "language": "python",
   "name": "python3"
  },
  "language_info": {
   "codemirror_mode": {
    "name": "ipython",
    "version": 3
   },
   "file_extension": ".py",
   "mimetype": "text/x-python",
   "name": "python",
   "nbconvert_exporter": "python",
   "pygments_lexer": "ipython3",
   "version": "3.7.3"
  }
 },
 "nbformat": 4,
 "nbformat_minor": 1
}
