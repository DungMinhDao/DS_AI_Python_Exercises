{
 "cells": [
  {
   "cell_type": "markdown",
   "metadata": {
    "id": "7uE1EooUD6ho"
   },
   "source": [
    "\n",
    "# <font color=”blue”> Practice 1: Control flow </font>\n"
   ]
  },
  {
   "cell_type": "markdown",
   "metadata": {
    "id": "DbCp_LBfMrO2"
   },
   "source": [
    "## Part 1. Conditional statements"
   ]
  },
  {
   "cell_type": "markdown",
   "metadata": {
    "id": "r3eQQRKnMw74"
   },
   "source": [
    "### Exercise 1\n",
    "Write a program to display the number of days in a month, given the month and the year"
   ]
  },
  {
   "cell_type": "code",
   "execution_count": null,
   "metadata": {
    "id": "KvbkWf5e9Xhg"
   },
   "outputs": [],
   "source": [
    "month = int(input())\n",
    "year = int(input())\n",
    "\n",
    "##################\n",
    "# YOUR CODE HERE #\n",
    "##################\n",
    "\n",
    "print(\"result\") "
   ]
  },
  {
   "cell_type": "markdown",
   "metadata": {
    "id": "6WjUs-cPMxda"
   },
   "source": [
    "### Exercise 2\n",
    "Write a program to determine if 3 distinct points create an acute, right, obtuse triangle or a straight line, given the coordinates of the points"
   ]
  },
  {
   "cell_type": "code",
   "execution_count": null,
   "metadata": {
    "id": "LWUpH0-oDIUt"
   },
   "outputs": [],
   "source": [
    "ax, ay, bx, by, cx, cy = [float(i) for i in input().split()]\n",
    "\n",
    "##################\n",
    "# YOUR CODE HERE #\n",
    "##################\n",
    "\n"
   ]
  },
  {
   "cell_type": "markdown",
   "metadata": {
    "id": "N-4yRCEAMxz8"
   },
   "source": [
    "### Exercise 3\n",
    "GrabBike's pricing in Hanoi is calculated as follow: for the first 2km, the customer will be charged VND 12,000 and for each next km, he will be charged VND 3,500. In addition, after the first 2km, the customer will be charged VND 350 for each minute travel.\n",
    "\n",
    "Given the distance and the average speed (assume that the speed is constant), calculate the amount of money that the customer has to pay"
   ]
  },
  {
   "cell_type": "code",
   "execution_count": null,
   "metadata": {
    "id": "5kBG9ouyF8YI"
   },
   "outputs": [],
   "source": [
    "distance = float(input())\n",
    "speed = float(input())\n",
    "\n",
    "##################\n",
    "# YOUR CODE HERE #\n",
    "##################\n",
    "\n",
    "print(\"result\")"
   ]
  },
  {
   "cell_type": "markdown",
   "metadata": {
    "id": "Y7kiqXT-M1aN"
   },
   "source": [
    "## Part 2. Loops"
   ]
  },
  {
   "cell_type": "markdown",
   "metadata": {
    "id": "8NZLCxExM1wu"
   },
   "source": [
    "### Exercise 4\n",
    "The Collatz conjecture is a conjecture in mathematics that concerns a sequence defined as follows: start with any positive integer n. If the previous term is even, the next term is one half of the previous term. If the previous term is odd, the next term is 3 times the previous term plus 1. The conjecture is that no matter what value of n, the sequence will always reach 1.\n",
    "\n",
    "For instance, starting with n = 12, one gets the sequence 12, 6, 3, 10, 5, 16, 8, 4, 2, 1.\n",
    "\n",
    "Given the starting number, print the value of all the numbers in its path to 1\n"
   ]
  },
  {
   "cell_type": "code",
   "execution_count": null,
   "metadata": {
    "id": "eo87ufIOLpk7"
   },
   "outputs": [],
   "source": [
    "n = int(input())\n",
    "print(n, end=' ')\n",
    "while n != 1:\n",
    "    \n",
    "    ##################\n",
    "    # YOUR CODE HERE #\n",
    "    ##################\n",
    "\n",
    "    print('result')"
   ]
  },
  {
   "cell_type": "markdown",
   "metadata": {
    "id": "v2B20m1TM1Tl"
   },
   "source": [
    "### Exercise 5\n",
    "Write a program to check if an integer is a prime number or not"
   ]
  },
  {
   "cell_type": "code",
   "execution_count": 22,
   "metadata": {
    "id": "hsK5aQYcMY3E"
   },
   "outputs": [],
   "source": [
    "import math"
   ]
  },
  {
   "cell_type": "code",
   "execution_count": null,
   "metadata": {
    "id": "ZQftD47jMCYI"
   },
   "outputs": [],
   "source": [
    "n = int(input())\n",
    "\n",
    "##################\n",
    "# YOUR CODE HERE #\n",
    "##################\n",
    "\n",
    "print('prime')"
   ]
  },
  {
   "cell_type": "markdown",
   "metadata": {
    "id": "8Vu-kqyiM1LT"
   },
   "source": [
    "### Exercise 6\n",
    "Print a shape that looks like the one below, given the height \n",
    "\n",
    "Example: n = 3\n",
    "```\n",
    "__/\\__\n",
    "_/  \\_\n",
    "/    \\\n",
    "```\n",
    "\n",
    "Example: n = 5\n",
    "```\n",
    "____/\\____\n",
    "___/  \\___\n",
    "__/    \\__\n",
    "_/      \\_\n",
    "/        \\\n",
    "```\n"
   ]
  },
  {
   "cell_type": "code",
   "execution_count": null,
   "metadata": {
    "id": "M-gGfKLnPZdb"
   },
   "outputs": [],
   "source": [
    "n = int(input())\n",
    "\n",
    "##################\n",
    "# YOUR CODE HERE #\n",
    "##################\n",
    "\n",
    "for i in range(n):\n",
    "    print(\"result\")"
   ]
  },
  {
   "cell_type": "markdown",
   "metadata": {
    "id": "fB2nnBsBM0wu"
   },
   "source": [
    "### Exercise 7\n",
    "One way of computing square roots is Newton's method. Suppose that you want to know the square root of a. If you start with (almost) any estimate x, then you can get a better estimate with the formula: y = (x + a/x)/2\n",
    "\n",
    "Given a non-negative number a, compute the square root of that number using Newton's method with the precision of 0.0000001"
   ]
  },
  {
   "cell_type": "code",
   "execution_count": null,
   "metadata": {
    "id": "2-cMo_n5Q91w"
   },
   "outputs": [],
   "source": [
    "a = float(input())\n",
    "\n",
    "##################\n",
    "# YOUR CODE HERE #\n",
    "##################\n",
    "\n",
    "print(\"result\")"
   ]
  },
  {
   "cell_type": "markdown",
   "metadata": {
    "id": "DmOZQVw3F4wx"
   },
   "source": [
    "## Homework"
   ]
  },
  {
   "cell_type": "markdown",
   "metadata": {
    "id": "wWRgl8lVMyNT"
   },
   "source": [
    "### Exercise 8\n",
    "Using the code from exercise 7 and ```math.sqrt``` function from ```math``` library, print a table that describe the differences between the estimation in each step and the value computed by ```math.sqrt``` function\n",
    "\n",
    "Example: a = 15\n",
    "```\n",
    "Step  Value              Difference\n",
    "1     15.0               11.127016653792584\n",
    "2     8.0                4.127016653792583\n",
    "3     4.9375             1.064516653792583\n",
    "4     3.987737341772152  0.11475399556473498\n",
    "5     3.87463446793002   0.001651121722602955\n",
    "6     3.872983698008724  3.5180130719680847e-07\n",
    "7     3.872983346207433  1.5987211554602254e-14\n",
    "```"
   ]
  },
  {
   "cell_type": "code",
   "execution_count": null,
   "metadata": {
    "id": "-WnbEs1sUa6M"
   },
   "outputs": [],
   "source": [
    "import math"
   ]
  }
 ],
 "metadata": {
  "colab": {
   "name": "DS_AI_Week1.ipynb",
   "provenance": []
  },
  "kernelspec": {
   "display_name": "Python 3",
   "language": "python",
   "name": "python3"
  },
  "language_info": {
   "codemirror_mode": {
    "name": "ipython",
    "version": 3
   },
   "file_extension": ".py",
   "mimetype": "text/x-python",
   "name": "python",
   "nbconvert_exporter": "python",
   "pygments_lexer": "ipython3",
   "version": "3.7.3"
  }
 },
 "nbformat": 4,
 "nbformat_minor": 1
}